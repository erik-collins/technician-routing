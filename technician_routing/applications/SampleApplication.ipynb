{
 "cells": [
  {
   "cell_type": "markdown",
   "id": "b53961b2-b5c0-4ff7-9975-614331bd902d",
   "metadata": {},
   "source": [
    "# Imports"
   ]
  },
  {
   "cell_type": "code",
   "execution_count": 1,
   "id": "984d54f4-f285-474c-834e-bd85dc02abab",
   "metadata": {},
   "outputs": [],
   "source": [
    "# import time\n",
    "from technician_routing.routing_toolkit import RoutingConfig, RoutingInterface"
   ]
  },
  {
   "cell_type": "markdown",
   "id": "073e46db-e6e3-4904-a461-6ef37cbb128b",
   "metadata": {},
   "source": [
    "# Demo"
   ]
  },
  {
   "cell_type": "markdown",
   "id": "f07bb79d-435d-4b70-a39c-a109d37d23f1",
   "metadata": {},
   "source": [
    "#### Configure and Load Data"
   ]
  },
  {
   "cell_type": "code",
   "execution_count": 2,
   "id": "c2ad55e0-9686-4c35-bd7e-84851b576808",
   "metadata": {},
   "outputs": [
    {
     "name": "stdout",
     "output_type": "stream",
     "text": [
      "Set 5269 client addresses\n",
      "Using uniform minutes on location of 55\n",
      "Data Loaded\n"
     ]
    }
   ],
   "source": [
    "config = RoutingConfig(\n",
    "    'u:/data/darnley_tech_address.csv', \n",
    "    'u:/data/address_lat_long_121923.csv',\n",
    "    40, # MPH\n",
    "    55, # Minutes Per Service\n",
    "    60*7 # Max Minutes per Route\n",
    ")\n",
    "interface = RoutingInterface(config).load_data()"
   ]
  },
  {
   "cell_type": "markdown",
   "id": "2dcbfffd-448d-4361-9cc3-deca02a6d0f5",
   "metadata": {},
   "source": [
    "#### Choose your clients"
   ]
  },
  {
   "cell_type": "code",
   "execution_count": 3,
   "id": "6b967b27-dcf0-4914-8a06-3bd216c35a4b",
   "metadata": {},
   "outputs": [],
   "source": [
    "focus_addresses = interface.client_addresses[0:100]"
   ]
  },
  {
   "cell_type": "markdown",
   "id": "da5421ca-5121-49d8-8b04-6b0d8233a97c",
   "metadata": {},
   "source": [
    "#### Choose your technicians"
   ]
  },
  {
   "cell_type": "code",
   "execution_count": 4,
   "id": "8ef278f2-9824-402d-a8c4-7065916d0015",
   "metadata": {},
   "outputs": [],
   "source": [
    "#drivers = 25 # Weighted-Random Sample\n",
    "drivers = [0,1,2,3,4,5,6] * 4 # Four of each technician"
   ]
  },
  {
   "cell_type": "markdown",
   "id": "fb7faab0-337a-438c-b7b9-8f76a6591d84",
   "metadata": {},
   "source": [
    "#### Optionally Ovewrite certain defaults at runtime"
   ]
  },
  {
   "cell_type": "code",
   "execution_count": 5,
   "id": "9990f379-6ce8-4a69-994d-1ccac56f3b03",
   "metadata": {},
   "outputs": [
    {
     "name": "stdout",
     "output_type": "stream",
     "text": [
      "Using driver speed of 45 MPH\n",
      "Set 100 client addresses\n",
      "Using uniform minutes on location of 65\n"
     ]
    },
    {
     "data": {
      "text/plain": [
       "<technician_routing.routing_toolkit.engine.routing_interface.RoutingInterface at 0x1f8eea92810>"
      ]
     },
     "execution_count": 5,
     "metadata": {},
     "output_type": "execute_result"
    }
   ],
   "source": [
    "interface \\\n",
    "    .set_driver_speed(45) \\\n",
    "    .set_addresses(focus_addresses) \\\n",
    "    .set_time_on_location(65)"
   ]
  },
  {
   "cell_type": "markdown",
   "id": "6e173e34-b9f1-45b6-9c0b-e7e7ba003065",
   "metadata": {},
   "source": [
    "#### Run"
   ]
  },
  {
   "cell_type": "code",
   "execution_count": 6,
   "id": "57b5fd21-5f46-4e4d-a169-4b40158b8608",
   "metadata": {},
   "outputs": [
    {
     "name": "stdout",
     "output_type": "stream",
     "text": [
      "[0, 1, 2, 3, 4, 5, 6, 0, 1, 2, 3, 4, 5, 6, 0, 1, 2, 3, 4, 5, 6, 0, 1, 2, 3, 4, 5, 6]\n",
      "Calculated 107 node durations in 0.021976947784423828\n",
      "Running routing for 107 addresses and 28 drivers\n",
      "Solved objective value 7312\n",
      "Skipped unused route 0 starting at 0\n",
      "Skipped unused route 7 starting at 7\n",
      "Skipped unused route 8 starting at 8\n",
      "Skipped unused route 9 starting at 9\n",
      "Skipped unused route 15 starting at 15\n",
      "Skipped unused route 21 starting at 21\n",
      "Skipped unused route 22 starting at 22\n"
     ]
    },
    {
     "data": {
      "text/plain": [
       "[[1, 43, 72, 94, 86, 1],\n",
       " [2, 99, 19, 32, 27, 48, 2],\n",
       " [3, 71, 79, 106, 89, 10, 3],\n",
       " [4, 51, 20, 13, 53, 30, 4],\n",
       " [5, 52, 26, 37, 73, 41, 5],\n",
       " [6, 33, 28, 97, 31, 29, 6],\n",
       " [3, 102, 88, 101, 77, 21, 3],\n",
       " [4, 14, 16, 18, 25, 15, 4],\n",
       " [5, 12, 98, 75, 42, 57, 5],\n",
       " [6, 87, 39, 54, 47, 38, 6],\n",
       " [0, 76, 60, 0],\n",
       " [2, 8, 81, 22, 103, 46, 2],\n",
       " [3, 65, 23, 82, 66, 24, 3],\n",
       " [4, 68, 104, 74, 69, 35, 55, 4],\n",
       " [5, 62, 45, 67, 91, 93, 5],\n",
       " [6, 83, 84, 11, 70, 64, 7, 6],\n",
       " [2, 34, 49, 90, 56, 105, 2],\n",
       " [3, 100, 85, 63, 78, 3],\n",
       " [4, 50, 17, 96, 44, 95, 4],\n",
       " [5, 92, 36, 80, 5],\n",
       " [6, 40, 9, 58, 61, 59, 6]]"
      ]
     },
     "execution_count": 6,
     "metadata": {},
     "output_type": "execute_result"
    }
   ],
   "source": [
    "# Random Drivers\n",
    "routes = interface.run(route_drivers=drivers)\n",
    "routes"
   ]
  },
  {
   "cell_type": "markdown",
   "id": "50258627-597f-4421-9062-a6a4fba1f3e5",
   "metadata": {},
   "source": [
    "#### Detail Routes"
   ]
  },
  {
   "cell_type": "code",
   "execution_count": 9,
   "id": "73adf41c-f58d-4793-af60-f644b29cb338",
   "metadata": {},
   "outputs": [
    {
     "name": "stdout",
     "output_type": "stream",
     "text": [
      "Route 0: 293 minutes\n",
      "Technician 1: Michael Toia - 1164 Park Ave, Plainfield, NJ 07060, USA\n",
      "\t43: 1 Frost Ln, New Providence, NJ 07974, USA\n",
      "\t72: 1 Park Dr, Westfield, NJ 07090, USA\n",
      "\t94: 1 Tuscan Rd, Edison, NJ 08820, USA\n",
      "\t86: 1 S Louis St, Fords, NJ 08863, USA\n",
      "33 travel minutes\n",
      "260 minutes on site\n",
      "\n",
      "\n",
      "Route 1: 369 minutes\n",
      "Technician 2: Tranell Morton - 115 Spruce St, South Plainfield, NJ 07080, USA\n",
      "\t99: 1 Wieczorkowski Ave, Parlin, NJ 08859, USA\n",
      "\t19: 1 Barrier Dr, Hazlet, NJ 07730, USA\n",
      "\t32: 1 Crestwood Rd, Matawan, NJ 07747, USA\n",
      "\t27: 1 Cherry Creek Dr, Matawan, NJ 07747, USA\n",
      "\t48: 1 Harrison Ave, East Brunswick, NJ 08816, USA\n",
      "44 travel minutes\n",
      "325 minutes on site\n",
      "\n",
      "\n",
      "Route 2: 363 minutes\n",
      "Technician 3: Diego Costale - 221 Rutgers Rd, Piscataway, NJ 08854, USA\n",
      "\t71: 1 Oakmont Ave, East Brunswick, NJ 08816, USA\n",
      "\t79: 1 Rustic Dr, North Brunswick Township, NJ 08902, USA\n",
      "\t106: 10 Andover Dr, Kendall Park, NJ 08824, USA\n",
      "\t89: 1 Talcott Ct, Kendall Park, NJ 08824, USA\n",
      "\t10: 1 Andover Dr, Kendall Park, NJ 08824, USA\n",
      "38 travel minutes\n",
      "325 minutes on site\n",
      "\n",
      "\n",
      "Route 3: 335 minutes\n",
      "Technician 4: Thomas Danley - 12 Debow Dr, Millstone, NJ 08535, USA\n",
      "\t51: 1 Horseshoe Ct, Monroe Township, NJ 08831, USA\n",
      "\t20: 1 Bella Dr, Monroe Township, NJ 08831, USA\n",
      "\t13: 1 Aquaduct Rd, Monroe Township, NJ 08831, USA\n",
      "\t53: 1 Jester Ct, Monroe Township, NJ 08831, USA\n",
      "\t30: 1 Constitution Dr, Monroe Township, NJ 08831, USA\n",
      "10 travel minutes\n",
      "325 minutes on site\n",
      "\n",
      "\n",
      "Route 4: 376 minutes\n",
      "Technician 5: Drew Ascione - 10 Willow Ave, Howell Township, NJ 07731, USA\n",
      "\t52: 1 Howard Ct, Lincroft, NJ 07738, USA\n",
      "\t26: 1 Castleford Way, Lincroft, NJ 07738, USA\n",
      "\t37: 1 Dorchester Way, Shrewsbury, NJ 07702, USA\n",
      "\t73: 1 Plaza Ct, Long Branch, NJ 07740, USA\n",
      "\t41: 1 Faith Dr, Ocean Township, NJ 07712, USA\n",
      "51 travel minutes\n",
      "325 minutes on site\n",
      "\n",
      "\n",
      "Route 5: 360 minutes\n",
      "Technician 6: Office - 9 Federal Rd, Monroe Township, NJ 08831, USA\n",
      "\t33: 1 Crimson King Dr, Holmdel, NJ 07733, USA\n",
      "\t28: 1 Chippewa Ct, Holmdel, NJ 07733, USA\n",
      "\t97: 1 White Oak Ridge Rd, Lincroft, NJ 07738, USA\n",
      "\t31: 1 Coventry Square, Holmdel, NJ 07733, USA\n",
      "\t29: 1 Concord Ct, Colts Neck, NJ 07722, USA\n",
      "35 travel minutes\n",
      "325 minutes on site\n",
      "\n",
      "\n",
      "Route 6: 399 minutes\n",
      "Technician 3: Diego Costale - 221 Rutgers Rd, Piscataway, NJ 08854, USA\n",
      "\t102: 1 Witherspoon St, Whitehouse Station, NJ 08889, USA\n",
      "\t88: 1 Stover Way, Flemington, NJ 08822, USA\n",
      "\t101: 1 Wingover Farm Ct, Flemington, NJ 08822, USA\n",
      "\t77: 1 River Bend Rd, Clinton, NJ 08809, USA\n",
      "\t21: 1 Blue Heron Ln, Gladstone, NJ 07934, USA\n",
      "74 travel minutes\n",
      "325 minutes on site\n",
      "\n",
      "\n",
      "Route 7: 414 minutes\n",
      "Technician 4: Thomas Danley - 12 Debow Dr, Millstone, NJ 08535, USA\n",
      "\t14: 1 Arnold Dr, West Windsor Township, NJ 08550, USA\n",
      "\t16: 1 Baldwin Ct, Pennington, NJ 08534, USA\n",
      "\t18: 1 Baltusrol Terrace, Moorestown, NJ 08057, USA\n",
      "\t25: 1 Carriage Dr, Mt Holly, NJ 08060, USA\n",
      "\t15: 1 Babbitt Way, Allentown, NJ 08501, USA\n",
      "89 travel minutes\n",
      "325 minutes on site\n",
      "\n",
      "\n",
      "Route 8: 410 minutes\n",
      "Technician 5: Drew Ascione - 10 Willow Ave, Howell Township, NJ 07731, USA\n",
      "\t12: 1 Anthony Cir, Manchester Township, NJ 08759, USA\n",
      "\t98: 1 Whittingham Ln, Manchester Township, NJ 08759, USA\n",
      "\t75: 1 Puffin Ct, Forked River, NJ 08731, USA\n",
      "\t42: 1 Fieldcrest Ln, Brick Township, NJ 08724, USA\n",
      "\t57: 1 Lincoln Dr, Ocean Township, NJ 07712, USA\n",
      "85 travel minutes\n",
      "325 minutes on site\n",
      "\n",
      "\n",
      "Route 9: 346 minutes\n",
      "Technician 6: Office - 9 Federal Rd, Monroe Township, NJ 08831, USA\n",
      "\t87: 1 Springwood Dr, Monroe Township, NJ 08831, USA\n",
      "\t39: 1 Elena Ct, Monroe Township, NJ 08831, USA\n",
      "\t54: 1 Laila Ct, Monroe Township, NJ 08831, USA\n",
      "\t47: 1 Halifax Dr, Monroe Township, NJ 08831, USA\n",
      "\t38: 1 Duncan Dr, Cranbury, NJ 08512, USA\n",
      "21 travel minutes\n",
      "325 minutes on site\n",
      "\n",
      "\n",
      "Route 10: 165 minutes\n",
      "Technician 0: Jhonatan Stadler - 1291 Baker St, Hillside, NJ 07205, USA\n",
      "\t76: 1 Redspire Dr, Union, NJ 07083, USA\n",
      "\t60: 1 Luhrs Ct, Secaucus, NJ 07094, USA\n",
      "35 travel minutes\n",
      "130 minutes on site\n",
      "\n",
      "\n",
      "Route 11: 354 minutes\n",
      "Technician 2: Tranell Morton - 115 Spruce St, South Plainfield, NJ 07080, USA\n",
      "\t8: 1 5th St, East Brunswick, NJ 08816, USA\n",
      "\t81: 1 Sandalwood Dr, East Brunswick, NJ 08816, USA\n",
      "\t22: 1 Brandywine Dr, East Brunswick, NJ 08816, USA\n",
      "\t103: 1 Yorktown Rd, East Brunswick, NJ 08816, USA\n",
      "\t46: 1 Glover Rd, Milltown, NJ 08850, USA\n",
      "29 travel minutes\n",
      "325 minutes on site\n",
      "\n",
      "\n",
      "Route 12: 387 minutes\n",
      "Technician 3: Diego Costale - 221 Rutgers Rd, Piscataway, NJ 08854, USA\n",
      "\t65: 1 Montfort Dr, Belle Mead, NJ 08502, USA\n",
      "\t23: 1 Brookside Dr, Skillman, NJ 08558, USA\n",
      "\t82: 1 Seminole Rd, Skillman, NJ 08558, USA\n",
      "\t66: 1 Moorhead Dr, Pennington, NJ 08534, USA\n",
      "\t24: 1 Campbell Woods Way, Princeton, NJ 08540, USA\n",
      "62 travel minutes\n",
      "325 minutes on site\n",
      "\n",
      "\n",
      "Route 13: 416 minutes\n",
      "Technician 4: Thomas Danley - 12 Debow Dr, Millstone, NJ 08535, USA\n",
      "\t68: 1 Mozart Ct, East Windsor, NJ 08520, USA\n",
      "\t104: 1 Zaitz Farm Rd, West Windsor Township, NJ 08550, USA\n",
      "\t74: 1 Providence Dr, West Windsor Township, NJ 08550, USA\n",
      "\t69: 1 Nami Ln, Hamilton Township, NJ 08619, USA\n",
      "\t35: 1 Dogwood Ln, Hamilton Township, NJ 08690, USA\n",
      "\t55: 1 Landview Ct, Trenton, NJ 08691, USA\n",
      "26 travel minutes\n",
      "390 minutes on site\n",
      "\n",
      "\n",
      "Route 14: 357 minutes\n",
      "Technician 5: Drew Ascione - 10 Willow Ave, Howell Township, NJ 07731, USA\n",
      "\t62: 1 Marion Ct, Freehold Township, NJ 07728, USA\n",
      "\t45: 1 Gatley Close, Freehold, NJ 07728, USA\n",
      "\t67: 1 Morgan Ct, Freehold Township, NJ 07728, USA\n",
      "\t91: 1 Talleyrand Dr, Colts Neck, NJ 07722, USA\n",
      "\t93: 1 Turley Ln, Farmingdale, NJ 07727, USA\n",
      "32 travel minutes\n",
      "325 minutes on site\n",
      "\n",
      "\n",
      "Route 15: 405 minutes\n",
      "Technician 6: Office - 9 Federal Rd, Monroe Township, NJ 08831, USA\n",
      "\t83: 1 Shawnee Ct, Manalapan Township, NJ 07726, USA\n",
      "\t84: 1 Sheridan Rd, Manalapan Township, NJ 07726, USA\n",
      "\t11: 1 Andrea Ct, Manalapan Township, NJ 07726, USA\n",
      "\t70: 1 Nathan Hale Dr, Freehold Township, NJ 07728, USA\n",
      "\t64: 1 Molly Pitcher Ln, Freehold, NJ 07728, USA\n",
      "\t7: 9 Federal Rd, Monroe Township, NJ 08831, USA\n",
      "15 travel minutes\n",
      "390 minutes on site\n",
      "\n",
      "\n",
      "Route 16: 378 minutes\n",
      "Technician 2: Tranell Morton - 115 Spruce St, South Plainfield, NJ 07080, USA\n",
      "\t34: 1 Crosby Ln, Port Monmouth, NJ 07758, USA\n",
      "\t49: 1 Heather Ln, Middletown Township, NJ 07748, USA\n",
      "\t90: 1 Tall Tree Rd, Middletown Township, NJ 07748, USA\n",
      "\t56: 1 Laureen Ct, Middletown Township, NJ 07748, USA\n",
      "\t105: 10 Ambler Ct, Aberdeen Township, NJ 07747, USA\n",
      "53 travel minutes\n",
      "325 minutes on site\n",
      "\n",
      "\n",
      "Route 17: 290 minutes\n",
      "Technician 3: Diego Costale - 221 Rutgers Rd, Piscataway, NJ 08854, USA\n",
      "\t100: 1 Wilton Ave, Middlesex, NJ 08846, USA\n",
      "\t85: 1 Smith Ct, Hillsborough Township, NJ 08844, USA\n",
      "\t63: 1 Meadowlark Ln, Franklin Park, NJ 08823, USA\n",
      "\t78: 1 Rue Chagall, Somerset, NJ 08873, USA\n",
      "30 travel minutes\n",
      "260 minutes on site\n",
      "\n",
      "\n",
      "Route 18: 345 minutes\n",
      "Technician 4: Thomas Danley - 12 Debow Dr, Millstone, NJ 08535, USA\n",
      "\t50: 1 Hooper Ct, Millstone, NJ 08510, USA\n",
      "\t17: 1 Baldwin Dr, Millstone, NJ 08510, USA\n",
      "\t96: 1 Vista Ct, Millstone, NJ 08510, USA\n",
      "\t44: 1 Furlong Dr, Millstone, NJ 08535, USA\n",
      "\t95: 1 Vanarsdale Cir, Millstone, NJ 08535, USA\n",
      "20 travel minutes\n",
      "325 minutes on site\n",
      "\n",
      "\n",
      "Route 19: 220 minutes\n",
      "Technician 5: Drew Ascione - 10 Willow Ave, Howell Township, NJ 07731, USA\n",
      "\t92: 1 Thatcher Ct, Jackson Township, NJ 08527, USA\n",
      "\t36: 1 Dominion Dr, Jackson Township, NJ 08527, USA\n",
      "\t80: 1 S Westfield Rd, Howell Township, NJ 07731, USA\n",
      "25 travel minutes\n",
      "195 minutes on site\n",
      "\n",
      "\n",
      "Route 20: 330 minutes\n",
      "Technician 6: Office - 9 Federal Rd, Monroe Township, NJ 08831, USA\n",
      "\t40: 1 Emily Rd, Manalapan Township, NJ 07726, USA\n",
      "\t9: 1 Amanda Ct, Manalapan Township, NJ 07726, USA\n",
      "\t58: 1 Long Cove Dr, Monroe Township, NJ 08831, USA\n",
      "\t61: 1 Majestic Woods Dr, Monroe Township, NJ 08831, USA\n",
      "\t59: 1 Lorali Way, Monroe Township, NJ 08831, USA\n",
      "5 travel minutes\n",
      "325 minutes on site\n",
      "\n",
      "\n"
     ]
    }
   ],
   "source": [
    "for route_number, route in enumerate(routes):\n",
    "    \n",
    "    travel_time = 0\n",
    "    for start,end in zip(route, route[1:]):\n",
    "        travel_time += interface.solver.distances[start, end]\n",
    "\n",
    "    site_time = 0\n",
    "    for location in route[1:-1]:\n",
    "        site_time += interface.solver.demands[location]\n",
    "\n",
    "    tech = interface.df_techs.iloc[route[0], :]\n",
    "    #print(tech)\n",
    "     \n",
    "    print(f'Route {route_number}: {int(travel_time + site_time)}','minutes')\n",
    "    print(f'Technician {route[0]}: {tech[\"Tech\"]} - {tech[\"address\"]}')\n",
    "\n",
    "    for stop in route[1:-1]:\n",
    "        print(f'\\t{stop}: {interface.last_addresses[stop]}')\n",
    "    \n",
    "\n",
    "    print(int(travel_time), 'travel minutes') \n",
    "    print(site_time, 'minutes on site')\n",
    "    print('\\n')"
   ]
  },
  {
   "cell_type": "code",
   "execution_count": null,
   "id": "baa0d98a-63cb-4133-9650-0820ff98a226",
   "metadata": {},
   "outputs": [],
   "source": []
  }
 ],
 "metadata": {
  "kernelspec": {
   "display_name": "Python 3 (ipykernel)",
   "language": "python",
   "name": "python3"
  },
  "language_info": {
   "codemirror_mode": {
    "name": "ipython",
    "version": 3
   },
   "file_extension": ".py",
   "mimetype": "text/x-python",
   "name": "python",
   "nbconvert_exporter": "python",
   "pygments_lexer": "ipython3",
   "version": "3.11.7"
  }
 },
 "nbformat": 4,
 "nbformat_minor": 5
}
