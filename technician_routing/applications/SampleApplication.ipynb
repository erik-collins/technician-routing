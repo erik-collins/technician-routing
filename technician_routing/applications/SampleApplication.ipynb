{
 "cells": [
  {
   "cell_type": "code",
   "execution_count": 1,
   "id": "15276438-c331-433b-8aa7-e04163acb8e6",
   "metadata": {},
   "outputs": [],
   "source": [
    "from technician_routing import routing_toolkit as rtk"
   ]
  },
  {
   "cell_type": "code",
   "execution_count": 2,
   "id": "6ccecee2-ee8d-4243-b4d8-97e2fb68ef74",
   "metadata": {},
   "outputs": [
    {
     "data": {
      "text/plain": [
       "array([0., 0., 0., 0., 0.])"
      ]
     },
     "execution_count": 2,
     "metadata": {},
     "output_type": "execute_result"
    }
   ],
   "source": [
    "rtk.sample_behavior()"
   ]
  },
  {
   "cell_type": "code",
   "execution_count": null,
   "id": "9d8063af-2370-41fb-88bf-6e2784d49c72",
   "metadata": {},
   "outputs": [],
   "source": []
  },
  {
   "cell_type": "code",
   "execution_count": null,
   "id": "421ae969-5cd1-4bfe-a2b7-a944d3f4bc86",
   "metadata": {},
   "outputs": [],
   "source": []
  }
 ],
 "metadata": {
  "kernelspec": {
   "display_name": "Python 3 (ipykernel)",
   "language": "python",
   "name": "python3"
  },
  "language_info": {
   "codemirror_mode": {
    "name": "ipython",
    "version": 3
   },
   "file_extension": ".py",
   "mimetype": "text/x-python",
   "name": "python",
   "nbconvert_exporter": "python",
   "pygments_lexer": "ipython3",
   "version": "3.11.7"
  }
 },
 "nbformat": 4,
 "nbformat_minor": 5
}
