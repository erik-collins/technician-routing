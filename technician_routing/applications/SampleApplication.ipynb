{
 "cells": [
  {
   "cell_type": "code",
   "execution_count": 5,
   "id": "984d54f4-f285-474c-834e-bd85dc02abab",
   "metadata": {},
   "outputs": [],
   "source": [
    "# import time\n",
    "from technician_routing.routing_toolkit import RoutingConfig, VehicleRoutingEngine"
   ]
  },
  {
   "cell_type": "code",
   "execution_count": 13,
   "id": "c2ad55e0-9686-4c35-bd7e-84851b576808",
   "metadata": {},
   "outputs": [
    {
     "name": "stdout",
     "output_type": "stream",
     "text": [
      "Set 5269 addresses\n",
      "Using uniform minutes on location of 55\n",
      "Data Loaded\n"
     ]
    }
   ],
   "source": [
    "config = RoutingConfig(\n",
    "    'u:/data/darnley_tech_address.csv', \n",
    "    'u:/data/address_lat_long_121923.csv',\n",
    "    40, # MPH\n",
    "    55, # Minutes Per Service\n",
    "    60*7 # Max Minutes per Route\n",
    ")\n",
    "engine = VehicleRoutingEngine(config).load_data()"
   ]
  },
  {
   "cell_type": "code",
   "execution_count": 26,
   "id": "57b5fd21-5f46-4e4d-a169-4b40158b8608",
   "metadata": {},
   "outputs": [
    {
     "name": "stdout",
     "output_type": "stream",
     "text": [
      "Using driver speed of 45 MPH\n",
      "Set 10 addresses\n",
      "Using uniform minutes on location of 65\n",
      "Calculated 12 node durations in 0.0\n",
      "Running routing for 12 addresses and 2 drivers\n",
      "Solved objective value 819\n"
     ]
    },
    {
     "data": {
      "text/plain": [
       "[[4, 6, 3, 0, 5, 1, 8, 4], [2, 9, 11, 10, 7, 2]]"
      ]
     },
     "execution_count": 26,
     "metadata": {},
     "output_type": "execute_result"
    }
   ],
   "source": [
    "engine = engine \\\n",
    "    .set_driver_speed(45) \\\n",
    "    .set_addresses(engine.addresses[0:10]) \\\n",
    "    .set_time_on_location(65)\n",
    "\n",
    "routes = engine.run(route_drivers=2) #[0,1,2, 3, 4, 5])\n",
    "routes"
   ]
  },
  {
   "cell_type": "code",
   "execution_count": 27,
   "id": "73adf41c-f58d-4793-af60-f644b29cb338",
   "metadata": {},
   "outputs": [
    {
     "name": "stdout",
     "output_type": "stream",
     "text": [
      "[4, 6, 3, 0, 5, 1, 8, 4] 74.0 260 334.0\n",
      "[2, 9, 11, 10, 7, 2] 95.0 260 355.0\n"
     ]
    }
   ],
   "source": [
    "for route in routes:\n",
    "    \n",
    "    travel_time = 0\n",
    "    for start,end in zip(route, route[1:]):\n",
    "        travel_time += engine.routing.distances[start, end]\n",
    "\n",
    "    site_time = 0\n",
    "    for location in route[1:-1]:\n",
    "        site_time += engine.routing.demands[location]\n",
    "\n",
    "    print(route, travel_time, site_time, travel_time + site_time)"
   ]
  },
  {
   "cell_type": "code",
   "execution_count": null,
   "id": "693e3939-218c-498a-bbd1-4d37c943a0b6",
   "metadata": {},
   "outputs": [],
   "source": [
    "engine.routing.demands[20]"
   ]
  },
  {
   "cell_type": "code",
   "execution_count": null,
   "id": "e8023306-0f05-4789-87ac-b9c2b67cd117",
   "metadata": {},
   "outputs": [],
   "source": [
    "engine.routing.distances[1,2]#.calculate_duration(1,2)"
   ]
  },
  {
   "cell_type": "code",
   "execution_count": null,
   "id": "9da87dca-e51e-4864-902f-feff5afbad78",
   "metadata": {},
   "outputs": [],
   "source": [
    "for route in routes:\n",
    "    "
   ]
  },
  {
   "cell_type": "raw",
   "id": "fca56abc-b8a7-45b1-bf0a-197a42d6e4c4",
   "metadata": {},
   "source": [
    "df_techs = pd.read_csv('u:/data/darnley_tech_address.csv')\n",
    "df_clients = pd.read_csv('u:/data/address_lat_long_121923.csv')"
   ]
  },
  {
   "cell_type": "raw",
   "id": "be8c0759-8013-48f2-9b61-4f1a24efa2b0",
   "metadata": {},
   "source": [
    "df_addresses = pd.concat([\n",
    "    df_techs.loc[:, ('address', 'latitude', 'longitude')],\n",
    "    df_clients.loc[:, ('address', 'latitude', 'longitude')]\n",
    "])"
   ]
  },
  {
   "cell_type": "raw",
   "id": "21f19154-f110-4f69-8c0d-70804518238b",
   "metadata": {},
   "source": [
    "df_addresses.loc[:, 'coordinates'] = list(map(tuple,df_addresses.loc[:, ('latitude', 'longitude')].values))\n",
    "coordinates_by_address = df_addresses.set_index('address').loc[:, 'coordinates'].to_dict()"
   ]
  },
  {
   "cell_type": "raw",
   "id": "8d5bf145-82e6-4309-b5bb-2b285ca85e17",
   "metadata": {},
   "source": [
    "coordinates = list(map(coordinates_by_address.__getitem__, sample_addresses))\n",
    "#random.shuffle(coordinates)\n",
    "coordinates"
   ]
  },
  {
   "cell_type": "raw",
   "id": "76e74294-5806-4ae0-abf8-a7fb82d2c814",
   "metadata": {},
   "source": [
    "SPEED_MPH = 30\n",
    "MINUTES_PER_HOUR = 60\n",
    "\n",
    "def calculate_distance_seconds(coordinates_a, coordinates_b):\n",
    "    miles = haversine(coordinates_a, coordinates_b, unit=Unit.MILES)\n",
    "    miles_per_time = SPEED_MPH / MINUTES_PER_HOUR\n",
    "    time = miles / miles_per_time\n",
    "    return int(time)\n",
    "\n",
    "distance_matrix = calculate_distance_matrix(coordinates, calculate_distance_seconds)\n",
    "print(len(distance_matrix))\n",
    "distance_matrix"
   ]
  },
  {
   "cell_type": "raw",
   "id": "7b4f6ef2-d475-45a5-892c-1f63f4e0b1c8",
   "metadata": {},
   "source": [
    "n_vehicles = 20\n",
    "\n",
    "route_percents = df_techs.loc[:, '% of Routes']\n",
    "vehicle_start_indices = choice(\n",
    "    route_percents.index.values,\n",
    "    n_vehicles,\n",
    "    p=route_percents.values\n",
    ")\n",
    "\n",
    "vehicle_start_indices"
   ]
  },
  {
   "cell_type": "raw",
   "id": "6c535a51-e139-47ab-9b46-744a82c0ccd6",
   "metadata": {},
   "source": [
    "routing = VehicleRouting(\n",
    "    distance_matrix,\n",
    "    len(distance_matrix) * [55 ,],\n",
    "    n_vehicles * [7 * MINUTES_PER_HOUR ],\n",
    "    vehicle_start_indices\n",
    ")"
   ]
  },
  {
   "cell_type": "raw",
   "id": "973eee09-084b-422f-8ea7-0bb6f72d91b2",
   "metadata": {},
   "source": [
    "routing.distance_callback(0,4)"
   ]
  },
  {
   "cell_type": "raw",
   "id": "d207801a-6e20-4be7-8b67-9a683a2ca84a",
   "metadata": {},
   "source": [
    "routing.demand_callback(5)"
   ]
  },
  {
   "cell_type": "code",
   "execution_count": null,
   "id": "1d68fac9-e021-4dbf-9a7b-9e79a30bf5fd",
   "metadata": {},
   "outputs": [],
   "source": []
  },
  {
   "cell_type": "code",
   "execution_count": null,
   "id": "be81bfd2-a1e2-44c8-9afa-4ac575e789ff",
   "metadata": {},
   "outputs": [],
   "source": []
  },
  {
   "cell_type": "code",
   "execution_count": null,
   "id": "b733b9ed-9fa0-458d-93b4-e070b71e6b20",
   "metadata": {},
   "outputs": [],
   "source": []
  },
  {
   "cell_type": "code",
   "execution_count": null,
   "id": "4e38bbdf-867f-4dcc-b4f8-fae283f103d3",
   "metadata": {},
   "outputs": [],
   "source": []
  },
  {
   "cell_type": "code",
   "execution_count": null,
   "id": "fc0d547c-85c5-4fe7-8a22-709ea59696b4",
   "metadata": {},
   "outputs": [],
   "source": [
    "def calculate_distances(self, mph=25):\n",
    "        addresses = self.addresses['address'].unique()\n",
    "        self.distances = np.zeros(shape=(len(addresses), len(addresses)))\n",
    "\n",
    "        for i_idx, i in enumerate(addresses):\n",
    "            i_coord = tuple(self.addresses[self.addresses['address'] == i][[\n",
    "                'latitude', 'longitude'\n",
    "            ]].values.tolist()[0])\n",
    "            for j_idx, j in enumerate(addresses):\n",
    "                j_coord = tuple(\n",
    "                    self.addresses[self.addresses['address'] == j][[\n",
    "                        'latitude', 'longitude'\n",
    "                    ]].values.tolist()[0])\n",
    "                self.distances[i_idx, j_idx] = hs.haversine(\n",
    "                    i_coord, j_coord, unit=Unit.MILES) / (mph / 60)"
   ]
  }
 ],
 "metadata": {
  "kernelspec": {
   "display_name": "Python 3 (ipykernel)",
   "language": "python",
   "name": "python3"
  },
  "language_info": {
   "codemirror_mode": {
    "name": "ipython",
    "version": 3
   },
   "file_extension": ".py",
   "mimetype": "text/x-python",
   "name": "python",
   "nbconvert_exporter": "python",
   "pygments_lexer": "ipython3",
   "version": "3.11.7"
  }
 },
 "nbformat": 4,
 "nbformat_minor": 5
}
