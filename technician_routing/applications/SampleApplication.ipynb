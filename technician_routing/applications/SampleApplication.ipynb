{
 "cells": [
  {
   "cell_type": "markdown",
   "id": "b53961b2-b5c0-4ff7-9975-614331bd902d",
   "metadata": {},
   "source": [
    "# Imports"
   ]
  },
  {
   "cell_type": "code",
   "execution_count": 1,
   "id": "984d54f4-f285-474c-834e-bd85dc02abab",
   "metadata": {},
   "outputs": [],
   "source": [
    "# import time\n",
    "from technician_routing.routing_toolkit import RoutingConfig, RoutingInterface\n",
    "from technician_routing.routing_toolkit.engine import create_search_parameters"
   ]
  },
  {
   "cell_type": "markdown",
   "id": "073e46db-e6e3-4904-a461-6ef37cbb128b",
   "metadata": {},
   "source": [
    "# Demo"
   ]
  },
  {
   "cell_type": "markdown",
   "id": "f07bb79d-435d-4b70-a39c-a109d37d23f1",
   "metadata": {},
   "source": [
    "#### Configure and Load Data"
   ]
  },
  {
   "cell_type": "code",
   "execution_count": 5,
   "id": "c2ad55e0-9686-4c35-bd7e-84851b576808",
   "metadata": {},
   "outputs": [
    {
     "name": "stdout",
     "output_type": "stream",
     "text": [
      "Set 5269 client addresses\n",
      "Using uniform minutes on location of 55\n",
      "Data Loaded\n"
     ]
    }
   ],
   "source": [
    "config = RoutingConfig(\n",
    "    'u:/data/darnley_tech_address.csv', \n",
    "    'u:/data/address_lat_long_121923.csv',\n",
    "    40, # MPH\n",
    "    55, # Minutes Per Service\n",
    "    60*7 # Max Minutes per Route\n",
    ")\n",
    "interface = RoutingInterface(config).load_data()"
   ]
  },
  {
   "cell_type": "markdown",
   "id": "2dcbfffd-448d-4361-9cc3-deca02a6d0f5",
   "metadata": {},
   "source": [
    "#### Choose your clients"
   ]
  },
  {
   "cell_type": "code",
   "execution_count": 7,
   "id": "6b967b27-dcf0-4914-8a06-3bd216c35a4b",
   "metadata": {},
   "outputs": [
    {
     "name": "stdout",
     "output_type": "stream",
     "text": [
      "1000\n"
     ]
    }
   ],
   "source": [
    "focus_addresses = interface.client_addresses[0:1000]\n",
    "print(len(focus_addresses))"
   ]
  },
  {
   "cell_type": "markdown",
   "id": "da5421ca-5121-49d8-8b04-6b0d8233a97c",
   "metadata": {},
   "source": [
    "#### Choose your technicians"
   ]
  },
  {
   "cell_type": "code",
   "execution_count": 9,
   "id": "8ef278f2-9824-402d-a8c4-7065916d0015",
   "metadata": {},
   "outputs": [
    {
     "name": "stdout",
     "output_type": "stream",
     "text": [
      "280\n"
     ]
    }
   ],
   "source": [
    "#drivers = 25 # Weighted-Random Sample\n",
    "drivers = [0,1,2,3,4,5,6] * 40 # Four of each technician\n",
    "print(len(drivers))"
   ]
  },
  {
   "cell_type": "markdown",
   "id": "fb7faab0-337a-438c-b7b9-8f76a6591d84",
   "metadata": {},
   "source": [
    "#### Optionally Ovewrite certain defaults at runtime"
   ]
  },
  {
   "cell_type": "code",
   "execution_count": 10,
   "id": "9990f379-6ce8-4a69-994d-1ccac56f3b03",
   "metadata": {},
   "outputs": [
    {
     "name": "stdout",
     "output_type": "stream",
     "text": [
      "Using driver speed of 45 MPH\n",
      "Set 1000 client addresses\n",
      "Using uniform minutes on location of 65\n"
     ]
    },
    {
     "data": {
      "text/plain": [
       "<technician_routing.routing_toolkit.engine.routing_interface.RoutingInterface at 0x22985cc4e50>"
      ]
     },
     "execution_count": 10,
     "metadata": {},
     "output_type": "execute_result"
    }
   ],
   "source": [
    "interface \\\n",
    "    .set_driver_speed(45) \\\n",
    "    .set_addresses(focus_addresses) \\\n",
    "    .set_time_on_location(65) \\\n",
    "    .set_search_parameters(create_search_parameters(search_time_seconds=45))"
   ]
  },
  {
   "cell_type": "markdown",
   "id": "6e173e34-b9f1-45b6-9c0b-e7e7ba003065",
   "metadata": {},
   "source": [
    "#### Run"
   ]
  },
  {
   "cell_type": "code",
   "execution_count": 12,
   "id": "57b5fd21-5f46-4e4d-a169-4b40158b8608",
   "metadata": {},
   "outputs": [
    {
     "name": "stdout",
     "output_type": "stream",
     "text": [
      "[0, 1, 2, 3, 4, 5, 6, 0, 1, 2, 3, 4, 5, 6, 0, 1, 2, 3, 4, 5, 6, 0, 1, 2, 3, 4, 5, 6, 0, 1, 2, 3, 4, 5, 6, 0, 1, 2, 3, 4, 5, 6, 0, 1, 2, 3, 4, 5, 6, 0, 1, 2, 3, 4, 5, 6, 0, 1, 2, 3, 4, 5, 6, 0, 1, 2, 3, 4, 5, 6, 0, 1, 2, 3, 4, 5, 6, 0, 1, 2, 3, 4, 5, 6, 0, 1, 2, 3, 4, 5, 6, 0, 1, 2, 3, 4, 5, 6, 0, 1, 2, 3, 4, 5, 6, 0, 1, 2, 3, 4, 5, 6, 0, 1, 2, 3, 4, 5, 6, 0, 1, 2, 3, 4, 5, 6, 0, 1, 2, 3, 4, 5, 6, 0, 1, 2, 3, 4, 5, 6, 0, 1, 2, 3, 4, 5, 6, 0, 1, 2, 3, 4, 5, 6, 0, 1, 2, 3, 4, 5, 6, 0, 1, 2, 3, 4, 5, 6, 0, 1, 2, 3, 4, 5, 6, 0, 1, 2, 3, 4, 5, 6, 0, 1, 2, 3, 4, 5, 6, 0, 1, 2, 3, 4, 5, 6, 0, 1, 2, 3, 4, 5, 6, 0, 1, 2, 3, 4, 5, 6, 0, 1, 2, 3, 4, 5, 6, 0, 1, 2, 3, 4, 5, 6, 0, 1, 2, 3, 4, 5, 6, 0, 1, 2, 3, 4, 5, 6, 0, 1, 2, 3, 4, 5, 6, 0, 1, 2, 3, 4, 5, 6, 0, 1, 2, 3, 4, 5, 6, 0, 1, 2, 3, 4, 5, 6, 0, 1, 2, 3, 4, 5, 6, 0, 1, 2, 3, 4, 5, 6]\n",
      "Calculated 1007 node durations in 1.4486331939697266\n",
      "Running routing for 1007 addresses and 280 drivers\n",
      "Solved objective value 71680\n",
      "Skipped unused route 0 starting at 0\n",
      "Skipped unused route 4 starting at 4\n",
      "Skipped unused route 7 starting at 7\n",
      "Skipped unused route 8 starting at 8\n",
      "Skipped unused route 10 starting at 10\n",
      "Skipped unused route 14 starting at 14\n",
      "Skipped unused route 15 starting at 15\n",
      "Skipped unused route 16 starting at 16\n",
      "Skipped unused route 17 starting at 17\n",
      "Skipped unused route 21 starting at 21\n",
      "Skipped unused route 22 starting at 22\n",
      "Skipped unused route 23 starting at 23\n",
      "Skipped unused route 24 starting at 24\n",
      "Skipped unused route 28 starting at 28\n",
      "Skipped unused route 29 starting at 29\n",
      "Skipped unused route 30 starting at 30\n",
      "Skipped unused route 31 starting at 31\n",
      "Skipped unused route 35 starting at 35\n",
      "Skipped unused route 36 starting at 36\n",
      "Skipped unused route 37 starting at 37\n",
      "Skipped unused route 38 starting at 38\n",
      "Skipped unused route 42 starting at 42\n",
      "Skipped unused route 43 starting at 43\n",
      "Skipped unused route 44 starting at 44\n",
      "Skipped unused route 45 starting at 45\n",
      "Skipped unused route 46 starting at 46\n",
      "Skipped unused route 49 starting at 49\n",
      "Skipped unused route 50 starting at 50\n",
      "Skipped unused route 51 starting at 51\n",
      "Skipped unused route 52 starting at 52\n",
      "Skipped unused route 53 starting at 53\n",
      "Skipped unused route 54 starting at 54\n",
      "Skipped unused route 56 starting at 56\n",
      "Skipped unused route 57 starting at 57\n",
      "Skipped unused route 58 starting at 58\n",
      "Skipped unused route 59 starting at 59\n",
      "Skipped unused route 60 starting at 60\n",
      "Skipped unused route 61 starting at 61\n",
      "Skipped unused route 63 starting at 63\n",
      "Skipped unused route 64 starting at 64\n",
      "Skipped unused route 65 starting at 65\n",
      "Skipped unused route 66 starting at 66\n",
      "Skipped unused route 67 starting at 67\n",
      "Skipped unused route 68 starting at 68\n",
      "Skipped unused route 69 starting at 69\n",
      "Skipped unused route 70 starting at 70\n",
      "Skipped unused route 71 starting at 71\n",
      "Skipped unused route 72 starting at 72\n",
      "Skipped unused route 73 starting at 73\n",
      "Skipped unused route 74 starting at 74\n",
      "Skipped unused route 75 starting at 75\n",
      "Skipped unused route 76 starting at 76\n",
      "Skipped unused route 77 starting at 77\n",
      "Skipped unused route 78 starting at 78\n",
      "Skipped unused route 79 starting at 79\n",
      "Skipped unused route 80 starting at 80\n",
      "Skipped unused route 81 starting at 81\n",
      "Skipped unused route 82 starting at 82\n",
      "Skipped unused route 83 starting at 83\n",
      "Skipped unused route 84 starting at 84\n",
      "Skipped unused route 85 starting at 85\n",
      "Skipped unused route 86 starting at 86\n",
      "Skipped unused route 87 starting at 87\n",
      "Skipped unused route 88 starting at 88\n",
      "Skipped unused route 89 starting at 89\n",
      "Skipped unused route 90 starting at 90\n",
      "Skipped unused route 91 starting at 91\n",
      "Skipped unused route 92 starting at 92\n",
      "Skipped unused route 93 starting at 93\n",
      "Skipped unused route 94 starting at 94\n",
      "Skipped unused route 97 starting at 97\n",
      "Skipped unused route 98 starting at 98\n",
      "Skipped unused route 99 starting at 99\n",
      "Skipped unused route 104 starting at 104\n",
      "Skipped unused route 105 starting at 105\n",
      "Skipped unused route 112 starting at 112\n",
      "Skipped unused route 113 starting at 113\n",
      "Skipped unused route 115 starting at 115\n",
      "Skipped unused route 122 starting at 122\n",
      "Skipped unused route 134 starting at 134\n",
      "Skipped unused route 154 starting at 154\n",
      "Skipped unused route 168 starting at 168\n",
      "Skipped unused route 175 starting at 175\n",
      "Skipped unused route 182 starting at 182\n",
      "Skipped unused route 189 starting at 189\n",
      "Skipped unused route 203 starting at 203\n",
      "Skipped unused route 208 starting at 208\n",
      "Skipped unused route 210 starting at 210\n",
      "Skipped unused route 217 starting at 217\n",
      "Skipped unused route 224 starting at 224\n",
      "Skipped unused route 231 starting at 231\n",
      "Skipped unused route 245 starting at 245\n"
     ]
    },
    {
     "data": {
      "text/plain": [
       "[[1, 750, 266, 72, 876, 859, 848, 1],\n",
       " [2, 862, 728, 2],\n",
       " [3, 835, 661, 102, 488, 910, 3],\n",
       " [5, 775, 535, 968, 113, 975, 5],\n",
       " [6, 67, 231, 368, 268, 128, 111, 6],\n",
       " [2, 31, 279, 760, 751, 745, 2],\n",
       " [4, 250, 438, 504, 264, 4],\n",
       " [5, 473, 169, 704, 133, 515, 5],\n",
       " [6, 444, 365, 70, 578, 385, 130, 6],\n",
       " [4, 14, 889, 172, 983, 999, 433, 4],\n",
       " [5, 384, 75, 301, 993, 493, 5],\n",
       " [6, 298, 284, 255, 58, 6],\n",
       " [4, 218, 703, 361, 249, 53, 30, 4],\n",
       " [5, 234, 532, 527, 513, 511, 57, 5],\n",
       " [6, 486, 278, 556, 891, 617, 966, 6],\n",
       " [4, 536, 66, 633, 984, 16, 4],\n",
       " [5, 373, 200, 174, 317, 118, 5],\n",
       " [6, 712, 903, 26, 125, 940, 6],\n",
       " [4, 485, 484, 550, 963, 653, 4],\n",
       " [5, 350, 73, 512, 294, 490, 5],\n",
       " [6, 160, 366, 822, 355, 52, 6],\n",
       " [5, 668, 607, 303, 623, 419, 5],\n",
       " [6, 19, 378, 926, 173, 134, 6],\n",
       " [6, 393, 753, 381, 450, 791, 6],\n",
       " [6, 223, 399, 818, 150, 97, 6],\n",
       " [4, 858, 251, 306, 687, 4],\n",
       " [5, 152, 466, 539, 698, 5],\n",
       " [2, 935, 810, 116, 803, 453, 2],\n",
       " [3, 928, 952, 502, 107, 3],\n",
       " [4, 991, 394, 247, 708, 706, 4],\n",
       " [5, 253, 182, 737, 560, 839, 5],\n",
       " [1, 877, 874, 873, 853, 1],\n",
       " [2, 439, 471, 606, 956, 645, 2],\n",
       " [3, 679, 257, 637, 990, 209, 3],\n",
       " [4, 518, 788, 324, 846, 468, 4],\n",
       " [5, 986, 498, 546, 5],\n",
       " [6, 514, 91, 422, 469, 192, 6],\n",
       " [2, 409, 658, 198, 136, 33, 2],\n",
       " [4, 957, 18, 537, 538, 161, 4],\n",
       " [5, 762, 237, 124, 574, 5],\n",
       " [6, 544, 320, 37, 860, 254, 6],\n",
       " [0, 187, 852, 579, 338, 638, 0],\n",
       " [1, 221, 962, 885, 809, 649, 428, 1],\n",
       " [2, 588, 272, 947, 824, 671, 2],\n",
       " [4, 276, 934, 472, 25, 357, 4],\n",
       " [5, 339, 521, 772, 5],\n",
       " [6, 412, 315, 261, 503, 205, 6],\n",
       " [0, 575, 713, 467, 689, 194, 0],\n",
       " [1, 310, 902, 879, 572, 127, 1],\n",
       " [2, 480, 299, 191, 816, 353, 2],\n",
       " [3, 396, 88, 101, 845, 901, 3],\n",
       " [4, 204, 700, 699, 721, 349, 4],\n",
       " [5, 180, 176, 258, 151, 363, 5],\n",
       " [6, 165, 84, 608, 705, 896, 452, 6],\n",
       " [0, 157, 875, 443, 785, 573, 0],\n",
       " [2, 90, 946, 567, 676, 516, 2],\n",
       " [3, 989, 65, 155, 620, 239, 3],\n",
       " [4, 277, 655, 455, 789, 227, 4],\n",
       " [5, 386, 445, 325, 323, 245, 5],\n",
       " [6, 370, 916, 895, 890, 784, 612, 6],\n",
       " [0, 723, 479, 534, 197, 797, 0],\n",
       " [1, 49, 437, 634, 667, 602, 1],\n",
       " [2, 941, 201, 711, 346, 140, 2],\n",
       " [3, 82, 148, 907, 23, 917, 3],\n",
       " [4, 847, 351, 701, 992, 424, 4],\n",
       " [5, 716, 766, 821, 897, 360, 5],\n",
       " [6, 756, 344, 29, 812, 126, 436, 6],\n",
       " [0, 34, 724, 167, 156, 736, 0],\n",
       " [1, 147, 259, 665, 738, 1],\n",
       " [2, 747, 434, 545, 120, 367, 2],\n",
       " [3, 561, 866, 520, 336, 880, 3],\n",
       " [4, 300, 746, 549, 551, 4],\n",
       " [5, 525, 329, 292, 978, 5],\n",
       " [6, 461, 764, 541, 820, 715, 587, 6],\n",
       " [1, 291, 347, 832, 271, 722, 570, 1],\n",
       " [2, 22, 103, 815, 798, 158, 2],\n",
       " [3, 327, 719, 24, 826, 154, 3],\n",
       " [4, 690, 288, 38, 611, 206, 595, 4],\n",
       " [5, 496, 343, 189, 720, 170, 5],\n",
       " [6, 568, 474, 441, 296, 923, 811, 6],\n",
       " [0, 613, 195, 562, 666, 519, 0],\n",
       " [1, 99, 553, 442, 672, 337, 1],\n",
       " [2, 135, 185, 139, 89, 106, 2],\n",
       " [3, 145, 906, 622, 548, 528, 3],\n",
       " [4, 951, 35, 69, 354, 625, 4],\n",
       " [5, 98, 36, 640, 592, 364, 5],\n",
       " [6, 119, 376, 114, 377, 590, 178, 6],\n",
       " [1, 21, 726, 913, 571, 911, 1],\n",
       " [2, 405, 215, 618, 958, 463, 383, 2],\n",
       " [3, 319, 702, 497, 447, 389, 3],\n",
       " [4, 104, 395, 287, 269, 74, 451, 4],\n",
       " [5, 331, 380, 41, 540, 494, 837, 5],\n",
       " [6, 222, 210, 110, 893, 459, 416, 6],\n",
       " [1, 179, 792, 819, 817, 804, 1],\n",
       " [2, 190, 27, 921, 883, 614, 2],\n",
       " [3, 482, 830, 800, 773, 735, 3],\n",
       " [4, 814, 162, 4],\n",
       " [5, 786, 500, 929, 838, 309, 5],\n",
       " [6, 805, 122, 418, 39, 604, 54, 6],\n",
       " [1, 603, 117, 112, 681, 216, 1],\n",
       " [2, 506, 163, 230, 458, 146, 2],\n",
       " [3, 159, 900, 330, 663, 647, 3],\n",
       " [4, 20, 717, 286, 440, 13, 131, 4],\n",
       " [5, 630, 477, 293, 375, 1000, 967, 5],\n",
       " [6, 224, 87, 211, 932, 740, 609, 6],\n",
       " [1, 755, 691, 686, 168, 656, 688, 1],\n",
       " [2, 56, 427, 782, 767, 462, 2],\n",
       " [3, 273, 635, 183, 523, 476, 115, 3],\n",
       " [4, 96, 807, 369, 17, 505, 400, 4],\n",
       " [5, 683, 927, 707, 972, 709, 547, 5],\n",
       " [6, 411, 954, 953, 933, 213, 212, 6],\n",
       " [0, 657, 802, 955, 214, 358, 0],\n",
       " [1, 887, 629, 898, 840, 871, 729, 1],\n",
       " [2, 886, 63, 316, 977, 912, 2],\n",
       " [3, 79, 988, 779, 226, 318, 3],\n",
       " [4, 328, 872, 144, 796, 616, 4],\n",
       " [5, 248, 171, 308, 495, 242, 241, 5],\n",
       " [6, 47, 297, 636, 752, 335, 662, 6],\n",
       " [1, 410, 825, 542, 414, 979, 733, 1],\n",
       " [2, 199, 675, 305, 642, 48, 219, 2],\n",
       " [3, 270, 10, 143, 138, 295, 3],\n",
       " [4, 530, 557, 529, 524, 446, 596, 4],\n",
       " [6, 228, 833, 732, 387, 193, 881, 6],\n",
       " [1, 421, 77, 793, 398, 478, 1],\n",
       " [2, 650, 795, 787, 626, 501, 46, 2],\n",
       " [3, 799, 244, 739, 566, 431, 3],\n",
       " [4, 621, 659, 648, 605, 589, 831, 4],\n",
       " [5, 985, 1003, 758, 492, 302, 240, 5],\n",
       " [6, 202, 220, 44, 664, 408, 203, 6],\n",
       " [1, 555, 554, 994, 448, 153, 1],\n",
       " [2, 109, 105, 685, 531, 32, 2],\n",
       " [3, 402, 177, 374, 558, 918, 806, 3],\n",
       " [4, 843, 569, 827, 757, 742, 342, 4],\n",
       " [5, 42, 892, 669, 236, 235, 970, 5],\n",
       " [6, 407, 392, 651, 397, 11, 40, 6],\n",
       " [1, 834, 435, 208, 744, 345, 333, 1],\n",
       " [2, 908, 759, 730, 522, 828, 678, 2],\n",
       " [3, 359, 974, 857, 836, 771, 581, 3],\n",
       " [4, 961, 899, 869, 861, 855, 888, 4],\n",
       " [5, 93, 225, 945, 684, 644, 583, 5],\n",
       " [6, 59, 61, 915, 673, 924, 149, 6],\n",
       " [1, 181, 483, 166, 867, 326, 304, 1],\n",
       " [2, 526, 487, 322, 321, 275, 725, 2],\n",
       " [3, 543, 641, 652, 624, 627, 938, 3],\n",
       " [4, 15, 552, 863, 710, 680, 694, 4],\n",
       " [5, 246, 92, 12, 121, 582, 654, 5],\n",
       " [6, 749, 475, 770, 580, 233, 6],\n",
       " [0, 964, 777, 776, 922, 238, 697, 0],\n",
       " [1, 280, 252, 43, 615, 229, 262, 1],\n",
       " [2, 403, 379, 429, 81, 186, 949, 2],\n",
       " [3, 274, 693, 930, 593, 781, 774, 3],\n",
       " [4, 51, 997, 996, 980, 976, 854, 4],\n",
       " [5, 761, 217, 464, 45, 489, 741, 5],\n",
       " [6, 610, 597, 64, 577, 123, 371, 6],\n",
       " [1, 909, 969, 851, 743, 594, 460, 1],\n",
       " [2, 965, 507, 601, 86, 950, 598, 2],\n",
       " [3, 372, 734, 971, 188, 71, 481, 3],\n",
       " [4, 388, 68, 670, 981, 413, 55, 4],\n",
       " [5, 265, 842, 808, 584, 5],\n",
       " [6, 850, 844, 401, 682, 944, 864, 6],\n",
       " [0, 390, 290, 508, 491, 281, 341, 0],\n",
       " [1, 426, 586, 585, 565, 959, 94, 1],\n",
       " [2, 1006, 998, 870, 765, 763, 714, 2],\n",
       " [3, 263, 78, 882, 3],\n",
       " [4, 267, 108, 50, 207, 919, 778, 4],\n",
       " [5, 184, 674, 470, 465, 142, 141, 5],\n",
       " [6, 7, 232, 768, 456, 939, 783, 6],\n",
       " [0, 307, 60, 430, 449, 175, 0],\n",
       " [1, 509, 510, 960, 415, 823, 677, 1],\n",
       " [2, 631, 559, 646, 868, 260, 731, 2],\n",
       " [3, 417, 348, 256, 85, 643, 3],\n",
       " [4, 129, 95, 404, 865, 285, 628, 4],\n",
       " [5, 243, 423, 420, 432, 62, 692, 5],\n",
       " [6, 312, 748, 340, 334, 332, 313, 6],\n",
       " [0, 829, 132, 533, 576, 564, 754, 0],\n",
       " [1, 769, 1001, 925, 499, 878, 289, 1],\n",
       " [2, 356, 599, 8, 794, 660, 937, 2],\n",
       " [3, 517, 1005, 931, 914, 780, 3],\n",
       " [4, 352, 727, 311, 849, 4],\n",
       " [5, 973, 995, 894, 563, 695, 5],\n",
       " [6, 9, 801, 83, 600, 884, 936, 6],\n",
       " [0, 76, 591, 391, 920, 0],\n",
       " [1, 987, 841, 718, 639, 362, 1002, 1],\n",
       " [2, 948, 942, 454, 28, 425, 2],\n",
       " [3, 696, 314, 1004, 856, 283, 100, 3],\n",
       " [4, 904, 632, 619, 137, 282, 4],\n",
       " [5, 457, 196, 80, 905, 406, 5],\n",
       " [6, 164, 982, 790, 813, 382, 943, 6]]"
      ]
     },
     "execution_count": 12,
     "metadata": {},
     "output_type": "execute_result"
    }
   ],
   "source": [
    "# Random Drivers\n",
    "routes = interface.run(route_drivers=drivers)\n",
    "routes"
   ]
  },
  {
   "cell_type": "markdown",
   "id": "50258627-597f-4421-9062-a6a4fba1f3e5",
   "metadata": {},
   "source": [
    "#### Detail Routes"
   ]
  },
  {
   "cell_type": "code",
   "execution_count": null,
   "id": "73adf41c-f58d-4793-af60-f644b29cb338",
   "metadata": {},
   "outputs": [],
   "source": [
    "for route_number, route in enumerate(routes):\n",
    "    \n",
    "    travel_time = 0\n",
    "    for start,end in zip(route, route[1:]):\n",
    "        travel_time += interface.solver.distances[start, end]\n",
    "\n",
    "    site_time = 0\n",
    "    for location in route[1:-1]:\n",
    "        site_time += interface.solver.demands[location]\n",
    "\n",
    "    tech = interface.df_techs.iloc[route[0], :]\n",
    "    #print(tech)\n",
    "     \n",
    "    print(f'Route {route_number}: {int(travel_time + site_time)}','minutes')\n",
    "    print(f'Technician {route[0]}: {tech[\"Tech\"]} - {tech[\"address\"]}')\n",
    "\n",
    "    for stop in route[1:-1]:\n",
    "        print(f'\\t{stop}: {interface.last_addresses[stop]}')\n",
    "    \n",
    "\n",
    "    print(int(travel_time), 'travel minutes') \n",
    "    print(site_time, 'minutes on site')\n",
    "    print('\\n')"
   ]
  },
  {
   "cell_type": "code",
   "execution_count": null,
   "id": "baa0d98a-63cb-4133-9650-0820ff98a226",
   "metadata": {},
   "outputs": [],
   "source": []
  }
 ],
 "metadata": {
  "kernelspec": {
   "display_name": "Python 3 (ipykernel)",
   "language": "python",
   "name": "python3"
  },
  "language_info": {
   "codemirror_mode": {
    "name": "ipython",
    "version": 3
   },
   "file_extension": ".py",
   "mimetype": "text/x-python",
   "name": "python",
   "nbconvert_exporter": "python",
   "pygments_lexer": "ipython3",
   "version": "3.11.7"
  }
 },
 "nbformat": 4,
 "nbformat_minor": 5
}
