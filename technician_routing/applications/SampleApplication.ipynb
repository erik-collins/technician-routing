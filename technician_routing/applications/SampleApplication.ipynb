{
 "cells": [
  {
   "cell_type": "markdown",
   "id": "b53961b2-b5c0-4ff7-9975-614331bd902d",
   "metadata": {},
   "source": [
    "# Imports"
   ]
  },
  {
   "cell_type": "code",
   "execution_count": 1,
   "id": "984d54f4-f285-474c-834e-bd85dc02abab",
   "metadata": {},
   "outputs": [],
   "source": [
    "# import time\n",
    "from technician_routing.routing_toolkit import RoutingConfig, RoutingInterface\n",
    "from technician_routing.routing_toolkit.engine import create_search_parameters"
   ]
  },
  {
   "cell_type": "markdown",
   "id": "073e46db-e6e3-4904-a461-6ef37cbb128b",
   "metadata": {},
   "source": [
    "# Demo"
   ]
  },
  {
   "cell_type": "markdown",
   "id": "f07bb79d-435d-4b70-a39c-a109d37d23f1",
   "metadata": {},
   "source": [
    "#### Configure and Load Data"
   ]
  },
  {
   "cell_type": "code",
   "execution_count": 6,
   "id": "c2ad55e0-9686-4c35-bd7e-84851b576808",
   "metadata": {},
   "outputs": [
    {
     "name": "stdout",
     "output_type": "stream",
     "text": [
      "Set 5269 client addresses\n",
      "Using uniform minutes on location of 55\n",
      "Data Loaded\n"
     ]
    }
   ],
   "source": [
    "config = RoutingConfig(\n",
    "    'u:/data/darnley_tech_address.csv', \n",
    "    'u:/data/address_lat_long_121923.csv',\n",
    "    40, # MPH\n",
    "    55, # Minutes Per Service\n",
    "    60*7 # Max Minutes per Route\n",
    ")\n",
    "interface = RoutingInterface(config).load_data()"
   ]
  },
  {
   "cell_type": "markdown",
   "id": "2dcbfffd-448d-4361-9cc3-deca02a6d0f5",
   "metadata": {},
   "source": [
    "#### Choose your clients"
   ]
  },
  {
   "cell_type": "code",
   "execution_count": 7,
   "id": "6b967b27-dcf0-4914-8a06-3bd216c35a4b",
   "metadata": {},
   "outputs": [
    {
     "name": "stdout",
     "output_type": "stream",
     "text": [
      "1000\n"
     ]
    }
   ],
   "source": [
    "focus_addresses = interface.client_addresses[0:1000]\n",
    "print(len(focus_addresses))"
   ]
  },
  {
   "cell_type": "markdown",
   "id": "da5421ca-5121-49d8-8b04-6b0d8233a97c",
   "metadata": {},
   "source": [
    "#### Choose your technicians"
   ]
  },
  {
   "cell_type": "code",
   "execution_count": 8,
   "id": "8ef278f2-9824-402d-a8c4-7065916d0015",
   "metadata": {},
   "outputs": [
    {
     "name": "stdout",
     "output_type": "stream",
     "text": [
      "280\n"
     ]
    }
   ],
   "source": [
    "#drivers = 25 # Weighted-Random Sample\n",
    "drivers = [0,1,2,3,4,5,6] * 40 # Four of each technician\n",
    "print(len(drivers))"
   ]
  },
  {
   "cell_type": "markdown",
   "id": "fb7faab0-337a-438c-b7b9-8f76a6591d84",
   "metadata": {},
   "source": [
    "#### Optionally Ovewrite certain defaults at runtime"
   ]
  },
  {
   "cell_type": "code",
   "execution_count": 13,
   "id": "9990f379-6ce8-4a69-994d-1ccac56f3b03",
   "metadata": {},
   "outputs": [
    {
     "name": "stdout",
     "output_type": "stream",
     "text": [
      "Using driver speed of 45 MPH\n",
      "Set 1000 client addresses\n",
      "Using uniform minutes on location of 65\n"
     ]
    },
    {
     "data": {
      "text/plain": [
       "<technician_routing.routing_toolkit.engine.routing_interface.RoutingInterface at 0x22886e6a8d0>"
      ]
     },
     "execution_count": 13,
     "metadata": {},
     "output_type": "execute_result"
    }
   ],
   "source": [
    "interface \\\n",
    "    .set_driver_speed(45) \\\n",
    "    .set_addresses(focus_addresses) \\\n",
    "    .set_time_on_location(65) \\\n",
    "    #.set_search_parameters(create_search_parameters(search_time_seconds=15))"
   ]
  },
  {
   "cell_type": "markdown",
   "id": "6e173e34-b9f1-45b6-9c0b-e7e7ba003065",
   "metadata": {},
   "source": [
    "#### Run"
   ]
  },
  {
   "cell_type": "code",
   "execution_count": 14,
   "id": "57b5fd21-5f46-4e4d-a169-4b40158b8608",
   "metadata": {},
   "outputs": [
    {
     "name": "stdout",
     "output_type": "stream",
     "text": [
      "[0, 1, 2, 3, 4, 5, 6, 0, 1, 2, 3, 4, 5, 6, 0, 1, 2, 3, 4, 5, 6, 0, 1, 2, 3, 4, 5, 6, 0, 1, 2, 3, 4, 5, 6, 0, 1, 2, 3, 4, 5, 6, 0, 1, 2, 3, 4, 5, 6, 0, 1, 2, 3, 4, 5, 6, 0, 1, 2, 3, 4, 5, 6, 0, 1, 2, 3, 4, 5, 6, 0, 1, 2, 3, 4, 5, 6, 0, 1, 2, 3, 4, 5, 6, 0, 1, 2, 3, 4, 5, 6, 0, 1, 2, 3, 4, 5, 6, 0, 1, 2, 3, 4, 5, 6, 0, 1, 2, 3, 4, 5, 6, 0, 1, 2, 3, 4, 5, 6, 0, 1, 2, 3, 4, 5, 6, 0, 1, 2, 3, 4, 5, 6, 0, 1, 2, 3, 4, 5, 6, 0, 1, 2, 3, 4, 5, 6, 0, 1, 2, 3, 4, 5, 6, 0, 1, 2, 3, 4, 5, 6, 0, 1, 2, 3, 4, 5, 6, 0, 1, 2, 3, 4, 5, 6, 0, 1, 2, 3, 4, 5, 6, 0, 1, 2, 3, 4, 5, 6, 0, 1, 2, 3, 4, 5, 6, 0, 1, 2, 3, 4, 5, 6, 0, 1, 2, 3, 4, 5, 6, 0, 1, 2, 3, 4, 5, 6, 0, 1, 2, 3, 4, 5, 6, 0, 1, 2, 3, 4, 5, 6, 0, 1, 2, 3, 4, 5, 6, 0, 1, 2, 3, 4, 5, 6, 0, 1, 2, 3, 4, 5, 6, 0, 1, 2, 3, 4, 5, 6, 0, 1, 2, 3, 4, 5, 6, 0, 1, 2, 3, 4, 5, 6, 0, 1, 2, 3, 4, 5, 6]\n",
      "Calculated 1007 node durations in 1.5087647438049316\n",
      "Running routing for 1007 addresses and 280 drivers\n"
     ]
    },
    {
     "ename": "Exception",
     "evalue": "Failed to solve problem, likely too few routes/vehicles or too low of a time limit",
     "output_type": "error",
     "traceback": [
      "\u001b[1;31m---------------------------------------------------------------------------\u001b[0m",
      "\u001b[1;31mException\u001b[0m                                 Traceback (most recent call last)",
      "Cell \u001b[1;32mIn[14], line 2\u001b[0m\n\u001b[0;32m      1\u001b[0m \u001b[38;5;66;03m# Random Drivers\u001b[39;00m\n\u001b[1;32m----> 2\u001b[0m routes \u001b[38;5;241m=\u001b[39m \u001b[43minterface\u001b[49m\u001b[38;5;241;43m.\u001b[39;49m\u001b[43mrun\u001b[49m\u001b[43m(\u001b[49m\u001b[43mroute_drivers\u001b[49m\u001b[38;5;241;43m=\u001b[39;49m\u001b[43mdrivers\u001b[49m\u001b[43m)\u001b[49m\n\u001b[0;32m      3\u001b[0m routes\n",
      "File \u001b[1;32ms:\\technician-routing\\technician_routing\\routing_toolkit\\engine\\routing_interface.py:162\u001b[0m, in \u001b[0;36mRoutingInterface.run\u001b[1;34m(self, route_drivers)\u001b[0m\n\u001b[0;32m    152\u001b[0m time_on_location \u001b[38;5;241m=\u001b[39m [\u001b[38;5;241m0\u001b[39m,] \u001b[38;5;241m*\u001b[39m \u001b[38;5;28mlen\u001b[39m(techs) \u001b[38;5;241m+\u001b[39m \u001b[38;5;28mself\u001b[39m\u001b[38;5;241m.\u001b[39mtime_on_location\n\u001b[0;32m    154\u001b[0m \u001b[38;5;28mself\u001b[39m\u001b[38;5;241m.\u001b[39msolver \u001b[38;5;241m=\u001b[39m RouteSolver(\n\u001b[0;32m    155\u001b[0m     \u001b[38;5;28mself\u001b[39m\u001b[38;5;241m.\u001b[39mlast_durations,\n\u001b[0;32m    156\u001b[0m     time_on_location,\n\u001b[1;32m   (...)\u001b[0m\n\u001b[0;32m    159\u001b[0m     search_parameters \u001b[38;5;241m=\u001b[39m \u001b[38;5;28mself\u001b[39m\u001b[38;5;241m.\u001b[39msearch_parameters\n\u001b[0;32m    160\u001b[0m )\n\u001b[1;32m--> 162\u001b[0m \u001b[38;5;28;01mreturn\u001b[39;00m \u001b[38;5;28;43mself\u001b[39;49m\u001b[38;5;241;43m.\u001b[39;49m\u001b[43msolver\u001b[49m\u001b[38;5;241;43m.\u001b[39;49m\u001b[43mget_routes\u001b[49m\u001b[43m(\u001b[49m\u001b[43m)\u001b[49m\n",
      "File \u001b[1;32ms:\\technician-routing\\technician_routing\\routing_toolkit\\engine\\route_solver.py:149\u001b[0m, in \u001b[0;36mRouteSolver.get_routes\u001b[1;34m(self)\u001b[0m\n\u001b[0;32m    148\u001b[0m \u001b[38;5;28;01mdef\u001b[39;00m \u001b[38;5;21mget_routes\u001b[39m(\u001b[38;5;28mself\u001b[39m):\n\u001b[1;32m--> 149\u001b[0m     solution \u001b[38;5;241m=\u001b[39m \u001b[38;5;28;43mself\u001b[39;49m\u001b[38;5;241;43m.\u001b[39;49m\u001b[43msolve\u001b[49m\u001b[43m(\u001b[49m\u001b[43mre_solve\u001b[49m\u001b[43m \u001b[49m\u001b[38;5;241;43m=\u001b[39;49m\u001b[43m \u001b[49m\u001b[38;5;28;43;01mFalse\u001b[39;49;00m\u001b[43m)\u001b[49m\n\u001b[0;32m    150\u001b[0m     routes \u001b[38;5;241m=\u001b[39m []\n\u001b[0;32m    152\u001b[0m     \u001b[38;5;28;01mfor\u001b[39;00m tour_number, vehicle_id \u001b[38;5;129;01min\u001b[39;00m \u001b[38;5;28menumerate\u001b[39m(\u001b[38;5;28mrange\u001b[39m(\u001b[38;5;28mlen\u001b[39m(\u001b[38;5;28mself\u001b[39m\u001b[38;5;241m.\u001b[39mstarts))):\n",
      "File \u001b[1;32ms:\\technician-routing\\technician_routing\\routing_toolkit\\engine\\route_solver.py:140\u001b[0m, in \u001b[0;36mRouteSolver.solve\u001b[1;34m(self, re_solve, search_parameters)\u001b[0m\n\u001b[0;32m    138\u001b[0m \u001b[38;5;28mself\u001b[39m\u001b[38;5;241m.\u001b[39msolution \u001b[38;5;241m=\u001b[39m \u001b[38;5;28mself\u001b[39m\u001b[38;5;241m.\u001b[39mmodel\u001b[38;5;241m.\u001b[39mSolveWithParameters(search_parameters \u001b[38;5;129;01mor\u001b[39;00m \u001b[38;5;28mself\u001b[39m\u001b[38;5;241m.\u001b[39msearch_parameters)\n\u001b[0;32m    139\u001b[0m \u001b[38;5;28;01mif\u001b[39;00m \u001b[38;5;28mself\u001b[39m\u001b[38;5;241m.\u001b[39msolution \u001b[38;5;129;01mis\u001b[39;00m \u001b[38;5;28;01mNone\u001b[39;00m:\n\u001b[1;32m--> 140\u001b[0m     \u001b[38;5;28;01mraise\u001b[39;00m \u001b[38;5;167;01mException\u001b[39;00m(\u001b[38;5;124m'\u001b[39m\u001b[38;5;124mFailed to solve problem, likely too few routes/vehicles or too low of a time limit\u001b[39m\u001b[38;5;124m'\u001b[39m)\n\u001b[0;32m    142\u001b[0m \u001b[38;5;28mself\u001b[39m\u001b[38;5;241m.\u001b[39msolved_objective_value \u001b[38;5;241m=\u001b[39m \u001b[38;5;28mself\u001b[39m\u001b[38;5;241m.\u001b[39msolution\u001b[38;5;241m.\u001b[39mObjectiveValue()\n\u001b[0;32m    143\u001b[0m \u001b[38;5;28mprint\u001b[39m(\u001b[38;5;124m'\u001b[39m\u001b[38;5;124mSolved objective value\u001b[39m\u001b[38;5;124m'\u001b[39m, \u001b[38;5;28mself\u001b[39m\u001b[38;5;241m.\u001b[39msolved_objective_value)\n",
      "\u001b[1;31mException\u001b[0m: Failed to solve problem, likely too few routes/vehicles or too low of a time limit"
     ]
    }
   ],
   "source": [
    "# Random Drivers\n",
    "routes = interface.run(route_drivers=drivers)\n",
    "routes"
   ]
  },
  {
   "cell_type": "markdown",
   "id": "50258627-597f-4421-9062-a6a4fba1f3e5",
   "metadata": {},
   "source": [
    "#### Detail Routes"
   ]
  },
  {
   "cell_type": "code",
   "execution_count": null,
   "id": "73adf41c-f58d-4793-af60-f644b29cb338",
   "metadata": {},
   "outputs": [],
   "source": [
    "for route_number, route in enumerate(routes):\n",
    "    \n",
    "    travel_time = 0\n",
    "    for start,end in zip(route, route[1:]):\n",
    "        travel_time += interface.solver.distances[start, end]\n",
    "\n",
    "    site_time = 0\n",
    "    for location in route[1:-1]:\n",
    "        site_time += interface.solver.demands[location]\n",
    "\n",
    "    tech = interface.df_techs.iloc[route[0], :]\n",
    "    #print(tech)\n",
    "     \n",
    "    print(f'Route {route_number}: {int(travel_time + site_time)}','minutes')\n",
    "    print(f'Technician {route[0]}: {tech[\"Tech\"]} - {tech[\"address\"]}')\n",
    "\n",
    "    for stop in route[1:-1]:\n",
    "        print(f'\\t{stop}: {interface.last_addresses[stop]}')\n",
    "    \n",
    "\n",
    "    print(int(travel_time), 'travel minutes') \n",
    "    print(site_time, 'minutes on site')\n",
    "    print('\\n')"
   ]
  },
  {
   "cell_type": "code",
   "execution_count": null,
   "id": "baa0d98a-63cb-4133-9650-0820ff98a226",
   "metadata": {},
   "outputs": [],
   "source": []
  }
 ],
 "metadata": {
  "kernelspec": {
   "display_name": "Python 3 (ipykernel)",
   "language": "python",
   "name": "python3"
  },
  "language_info": {
   "codemirror_mode": {
    "name": "ipython",
    "version": 3
   },
   "file_extension": ".py",
   "mimetype": "text/x-python",
   "name": "python",
   "nbconvert_exporter": "python",
   "pygments_lexer": "ipython3",
   "version": "3.11.7"
  }
 },
 "nbformat": 4,
 "nbformat_minor": 5
}
