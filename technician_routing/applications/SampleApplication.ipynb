{
 "cells": [
  {
   "cell_type": "code",
   "execution_count": 1,
   "id": "15276438-c331-433b-8aa7-e04163acb8e6",
   "metadata": {},
   "outputs": [],
   "source": [
    "from technician_routing import routing_toolkit as rtk\n",
    "from technician_routing import data_management as dm\n",
    "from technician_routing.data_management.caching import MemoizedFunction, JsonCache"
   ]
  },
  {
   "cell_type": "code",
   "execution_count": 2,
   "id": "6ccecee2-ee8d-4243-b4d8-97e2fb68ef74",
   "metadata": {},
   "outputs": [
    {
     "data": {
      "text/plain": [
       "array([0., 0., 0., 0., 0.])"
      ]
     },
     "execution_count": 2,
     "metadata": {},
     "output_type": "execute_result"
    }
   ],
   "source": [
    "rtk.sample_behavior()"
   ]
  },
  {
   "cell_type": "code",
   "execution_count": 3,
   "id": "421ae969-5cd1-4bfe-a2b7-a944d3f4bc86",
   "metadata": {},
   "outputs": [],
   "source": [
    "cache = JsonCache('u:/data/test.json')"
   ]
  },
  {
   "cell_type": "code",
   "execution_count": 4,
   "id": "13206ed6-0327-42f0-beb8-3a6160926a30",
   "metadata": {},
   "outputs": [
    {
     "name": "stdout",
     "output_type": "stream",
     "text": [
      "Warning, no data at u:/data/test.json\n"
     ]
    }
   ],
   "source": [
    "cache.load()"
   ]
  },
  {
   "cell_type": "code",
   "execution_count": 5,
   "id": "d0e598c0-d5a7-4869-a8c1-2f1c4c54d10b",
   "metadata": {},
   "outputs": [
    {
     "data": {
      "text/plain": [
       "{}"
      ]
     },
     "execution_count": 5,
     "metadata": {},
     "output_type": "execute_result"
    }
   ],
   "source": [
    "cache.data"
   ]
  },
  {
   "cell_type": "code",
   "execution_count": 6,
   "id": "4c35da5e-a5b1-4a10-ae8a-501eca8b0ce5",
   "metadata": {},
   "outputs": [
    {
     "data": {
      "text/plain": [
       "'u:/data/test.json'"
      ]
     },
     "execution_count": 6,
     "metadata": {},
     "output_type": "execute_result"
    }
   ],
   "source": [
    "cache.filepath"
   ]
  },
  {
   "cell_type": "code",
   "execution_count": 7,
   "id": "60fa86af-9b79-4594-8745-47c5e581689b",
   "metadata": {},
   "outputs": [],
   "source": [
    "class XYZ:\n",
    "    def __init__(self, count):\n",
    "        self.count = count\n",
    "    \n",
    "    def foo_func(self, key):\n",
    "        print(f'call {key}')\n",
    "        return key*self.count"
   ]
  },
  {
   "cell_type": "code",
   "execution_count": 17,
   "id": "9ebead71-f2d6-45c0-b06a-fad4b0aa8e98",
   "metadata": {},
   "outputs": [],
   "source": [
    "origin = XYZ(3)"
   ]
  },
  {
   "cell_type": "code",
   "execution_count": 29,
   "id": "6cd6b37b-0198-47f6-99d2-76aaa0ddab15",
   "metadata": {},
   "outputs": [],
   "source": [
    "origin.count = 5"
   ]
  },
  {
   "cell_type": "code",
   "execution_count": 30,
   "id": "3dbe4e96-4826-4a6c-87e3-4465e6df5bdf",
   "metadata": {},
   "outputs": [],
   "source": [
    "\n",
    "f = MemoizedFunction(cache, origin.foo_func)"
   ]
  },
  {
   "cell_type": "code",
   "execution_count": 24,
   "id": "4f2c4611-4870-4703-b191-e9826a69db39",
   "metadata": {},
   "outputs": [],
   "source": [
    "reader = f.new_reader(5)"
   ]
  },
  {
   "cell_type": "code",
   "execution_count": 31,
   "id": "c6dce92d-cede-480b-ac44-f3a940d1d6bc",
   "metadata": {},
   "outputs": [
    {
     "name": "stdout",
     "output_type": "stream",
     "text": [
      "call H\n"
     ]
    },
    {
     "data": {
      "text/plain": [
       "'HHHHH'"
      ]
     },
     "execution_count": 31,
     "metadata": {},
     "output_type": "execute_result"
    }
   ],
   "source": [
    "reader('H')"
   ]
  },
  {
   "cell_type": "code",
   "execution_count": 26,
   "id": "8cdf8304-b95f-46d9-a8d0-075e0263e6d9",
   "metadata": {},
   "outputs": [
    {
     "data": {
      "text/plain": [
       "{'B': 'BB', 'A': 'AA', 'C': 'CC', 'D': 'DD', 'E': 'EE'}"
      ]
     },
     "execution_count": 26,
     "metadata": {},
     "output_type": "execute_result"
    }
   ],
   "source": [
    "cache.data"
   ]
  },
  {
   "cell_type": "code",
   "execution_count": 16,
   "id": "e4c6123b-d593-428d-b06f-866572a35c76",
   "metadata": {},
   "outputs": [
    {
     "data": {
      "text/plain": [
       "{'B': 'BB', 'A': 'AA', 'C': 'CC'}"
      ]
     },
     "execution_count": 16,
     "metadata": {},
     "output_type": "execute_result"
    }
   ],
   "source": [
    "cache.data"
   ]
  },
  {
   "cell_type": "code",
   "execution_count": null,
   "id": "55055651-e6a0-49e8-9521-b7fed46811b1",
   "metadata": {},
   "outputs": [],
   "source": []
  }
 ],
 "metadata": {
  "kernelspec": {
   "display_name": "Python 3 (ipykernel)",
   "language": "python",
   "name": "python3"
  },
  "language_info": {
   "codemirror_mode": {
    "name": "ipython",
    "version": 3
   },
   "file_extension": ".py",
   "mimetype": "text/x-python",
   "name": "python",
   "nbconvert_exporter": "python",
   "pygments_lexer": "ipython3",
   "version": "3.11.7"
  }
 },
 "nbformat": 4,
 "nbformat_minor": 5
}
